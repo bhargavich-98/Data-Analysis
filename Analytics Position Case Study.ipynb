{
 "cells": [
  {
   "cell_type": "code",
   "execution_count": 3,
   "id": "1367dca0",
   "metadata": {},
   "outputs": [],
   "source": [
    "import pandas as pd"
   ]
  },
  {
   "cell_type": "markdown",
   "id": "c2164043",
   "metadata": {},
   "source": [
    "# Part A - Calculating loyalty points\n",
    "On each day, there are 2 slots for each of which the loyalty points are to be calculated: S1 from 12am to 12pm S2 from 12pm to 12am\" \"Based on the above information and the data provided answer the following questions:\n",
    "\n",
    "1. Find Playerwise Loyalty points earned by Players in the following slots:- a. 2nd October Slot S1 b. 16th October Slot S2 b. 18th October Slot S1 b. 26th October Slot S2\n",
    "2. Calculate overall loyalty points earned and rank players on the basis of loyalty points in the month of October. In case of tie, number of games played should be taken as the next criteria for ranking.\n",
    "3. What is the average deposit amount?\n",
    "4. What is the average deposit amount per user in a month?\n",
    "5. What is the average number of games played per user?\""
   ]
  },
  {
   "cell_type": "code",
   "execution_count": 4,
   "id": "5ff70085",
   "metadata": {},
   "outputs": [],
   "source": [
    "# Load data from Excel sheets\n",
    "df1 = pd.read_excel('modified Data.xlsx', sheet_name='User', parse_dates=['Datetime'])\n",
    "df2 = pd.read_excel('modified Data.xlsx', sheet_name='Deposit', parse_dates=['Datetime'])\n",
    "df3 = pd.read_excel('modified Data.xlsx', sheet_name='Withdrawal', parse_dates=['Datetime'])"
   ]
  },
  {
   "cell_type": "code",
   "execution_count": 5,
   "id": "29cd23e2",
   "metadata": {},
   "outputs": [
    {
     "data": {
      "text/html": [
       "<div>\n",
       "<style scoped>\n",
       "    .dataframe tbody tr th:only-of-type {\n",
       "        vertical-align: middle;\n",
       "    }\n",
       "\n",
       "    .dataframe tbody tr th {\n",
       "        vertical-align: top;\n",
       "    }\n",
       "\n",
       "    .dataframe thead th {\n",
       "        text-align: right;\n",
       "    }\n",
       "</style>\n",
       "<table border=\"1\" class=\"dataframe\">\n",
       "  <thead>\n",
       "    <tr style=\"text-align: right;\">\n",
       "      <th></th>\n",
       "      <th>User ID</th>\n",
       "      <th>Games Played</th>\n",
       "      <th>Datetime</th>\n",
       "    </tr>\n",
       "  </thead>\n",
       "  <tbody>\n",
       "    <tr>\n",
       "      <th>0</th>\n",
       "      <td>851</td>\n",
       "      <td>1</td>\n",
       "      <td>2022-01-10</td>\n",
       "    </tr>\n",
       "    <tr>\n",
       "      <th>1</th>\n",
       "      <td>717</td>\n",
       "      <td>1</td>\n",
       "      <td>2022-01-10</td>\n",
       "    </tr>\n",
       "    <tr>\n",
       "      <th>2</th>\n",
       "      <td>456</td>\n",
       "      <td>1</td>\n",
       "      <td>2022-01-10</td>\n",
       "    </tr>\n",
       "    <tr>\n",
       "      <th>3</th>\n",
       "      <td>424</td>\n",
       "      <td>1</td>\n",
       "      <td>2022-01-10</td>\n",
       "    </tr>\n",
       "    <tr>\n",
       "      <th>4</th>\n",
       "      <td>845</td>\n",
       "      <td>1</td>\n",
       "      <td>2022-01-10</td>\n",
       "    </tr>\n",
       "  </tbody>\n",
       "</table>\n",
       "</div>"
      ],
      "text/plain": [
       "   User ID  Games Played   Datetime\n",
       "0      851             1 2022-01-10\n",
       "1      717             1 2022-01-10\n",
       "2      456             1 2022-01-10\n",
       "3      424             1 2022-01-10\n",
       "4      845             1 2022-01-10"
      ]
     },
     "execution_count": 5,
     "metadata": {},
     "output_type": "execute_result"
    }
   ],
   "source": [
    "df1.head()"
   ]
  },
  {
   "cell_type": "code",
   "execution_count": 6,
   "id": "ae8667bd",
   "metadata": {},
   "outputs": [
    {
     "data": {
      "text/html": [
       "<div>\n",
       "<style scoped>\n",
       "    .dataframe tbody tr th:only-of-type {\n",
       "        vertical-align: middle;\n",
       "    }\n",
       "\n",
       "    .dataframe tbody tr th {\n",
       "        vertical-align: top;\n",
       "    }\n",
       "\n",
       "    .dataframe thead th {\n",
       "        text-align: right;\n",
       "    }\n",
       "</style>\n",
       "<table border=\"1\" class=\"dataframe\">\n",
       "  <thead>\n",
       "    <tr style=\"text-align: right;\">\n",
       "      <th></th>\n",
       "      <th>User Id</th>\n",
       "      <th>Datetime</th>\n",
       "      <th>Amount</th>\n",
       "    </tr>\n",
       "  </thead>\n",
       "  <tbody>\n",
       "    <tr>\n",
       "      <th>0</th>\n",
       "      <td>357</td>\n",
       "      <td>2022-01-10 00:03:00</td>\n",
       "      <td>2000</td>\n",
       "    </tr>\n",
       "    <tr>\n",
       "      <th>1</th>\n",
       "      <td>776</td>\n",
       "      <td>2022-01-10 00:03:00</td>\n",
       "      <td>2500</td>\n",
       "    </tr>\n",
       "    <tr>\n",
       "      <th>2</th>\n",
       "      <td>492</td>\n",
       "      <td>2022-01-10 00:06:00</td>\n",
       "      <td>5000</td>\n",
       "    </tr>\n",
       "    <tr>\n",
       "      <th>3</th>\n",
       "      <td>803</td>\n",
       "      <td>2022-01-10 00:07:00</td>\n",
       "      <td>5000</td>\n",
       "    </tr>\n",
       "    <tr>\n",
       "      <th>4</th>\n",
       "      <td>875</td>\n",
       "      <td>2022-01-10 00:09:00</td>\n",
       "      <td>1500</td>\n",
       "    </tr>\n",
       "  </tbody>\n",
       "</table>\n",
       "</div>"
      ],
      "text/plain": [
       "   User Id            Datetime  Amount\n",
       "0      357 2022-01-10 00:03:00    2000\n",
       "1      776 2022-01-10 00:03:00    2500\n",
       "2      492 2022-01-10 00:06:00    5000\n",
       "3      803 2022-01-10 00:07:00    5000\n",
       "4      875 2022-01-10 00:09:00    1500"
      ]
     },
     "execution_count": 6,
     "metadata": {},
     "output_type": "execute_result"
    }
   ],
   "source": [
    "df2.head()"
   ]
  },
  {
   "cell_type": "code",
   "execution_count": 7,
   "id": "61ced53f",
   "metadata": {},
   "outputs": [
    {
     "data": {
      "text/html": [
       "<div>\n",
       "<style scoped>\n",
       "    .dataframe tbody tr th:only-of-type {\n",
       "        vertical-align: middle;\n",
       "    }\n",
       "\n",
       "    .dataframe tbody tr th {\n",
       "        vertical-align: top;\n",
       "    }\n",
       "\n",
       "    .dataframe thead th {\n",
       "        text-align: right;\n",
       "    }\n",
       "</style>\n",
       "<table border=\"1\" class=\"dataframe\">\n",
       "  <thead>\n",
       "    <tr style=\"text-align: right;\">\n",
       "      <th></th>\n",
       "      <th>User Id</th>\n",
       "      <th>Datetime</th>\n",
       "      <th>Amount</th>\n",
       "    </tr>\n",
       "  </thead>\n",
       "  <tbody>\n",
       "    <tr>\n",
       "      <th>0</th>\n",
       "      <td>190</td>\n",
       "      <td>2022-01-10 00:03:00</td>\n",
       "      <td>5872</td>\n",
       "    </tr>\n",
       "    <tr>\n",
       "      <th>1</th>\n",
       "      <td>159</td>\n",
       "      <td>2022-01-10 00:16:00</td>\n",
       "      <td>9540</td>\n",
       "    </tr>\n",
       "    <tr>\n",
       "      <th>2</th>\n",
       "      <td>164</td>\n",
       "      <td>2022-01-10 00:24:00</td>\n",
       "      <td>815</td>\n",
       "    </tr>\n",
       "    <tr>\n",
       "      <th>3</th>\n",
       "      <td>946</td>\n",
       "      <td>2022-01-10 00:29:00</td>\n",
       "      <td>23000</td>\n",
       "    </tr>\n",
       "    <tr>\n",
       "      <th>4</th>\n",
       "      <td>763</td>\n",
       "      <td>2022-01-10 00:40:00</td>\n",
       "      <td>9473</td>\n",
       "    </tr>\n",
       "  </tbody>\n",
       "</table>\n",
       "</div>"
      ],
      "text/plain": [
       "   User Id            Datetime  Amount\n",
       "0      190 2022-01-10 00:03:00    5872\n",
       "1      159 2022-01-10 00:16:00    9540\n",
       "2      164 2022-01-10 00:24:00     815\n",
       "3      946 2022-01-10 00:29:00   23000\n",
       "4      763 2022-01-10 00:40:00    9473"
      ]
     },
     "execution_count": 7,
     "metadata": {},
     "output_type": "execute_result"
    }
   ],
   "source": [
    "df3.head()"
   ]
  },
  {
   "cell_type": "code",
   "execution_count": 8,
   "id": "822b6948",
   "metadata": {},
   "outputs": [],
   "source": [
    "# Slot boundaries\n",
    "s1_start = pd.Timestamp('12:00:00')\n",
    "s1_end = pd.Timestamp('23:59:59')\n",
    "s2_start = pd.Timestamp('00:00:00')\n",
    "s2_end = pd.Timestamp('11:59:59')"
   ]
  },
  {
   "cell_type": "code",
   "execution_count": 14,
   "id": "6b5d435c",
   "metadata": {},
   "outputs": [],
   "source": [
    "def calculate_loyalty_points(action_type, amount=None, num_deposits=None, num_withdrawals=None, games_played=None):\n",
    "    if action_type == 'deposit':\n",
    "        return 0.01 * amount\n",
    "    elif action_type == 'withdrawal':\n",
    "        return 0.005 * amount\n",
    "    elif action_type == 'deposit_withdrawal_diff':\n",
    "        return 0.001 * max(num_deposits - num_withdrawals, 0)\n",
    "    elif action_type == 'games_played':\n",
    "        return 0.2 * games_played"
   ]
  },
  {
   "cell_type": "code",
   "execution_count": 17,
   "id": "7d1ae09c",
   "metadata": {},
   "outputs": [],
   "source": [
    "loyalty_points = {}\n",
    "for _, row in df1.iterrows():\n",
    "    user_id = row['User ID']\n",
    "    datetime = row['Datetime']\n",
    "    games_played = row['Games Played']\n",
    "    \n",
    "    # Determine the slot\n",
    "    slot = None\n",
    "    if s1_start <= datetime <= s1_end:\n",
    "        slot = 'S1'\n",
    "    elif s2_start <= datetime <= s2_end:\n",
    "        slot = 'S2'\n",
    "    \n",
    "    # Initialize loyalty points for the player if not already present\n",
    "    if user_id not in loyalty_points:\n",
    "        loyalty_points[user_id] = {'S1': 0, 'S2': 0}\n",
    "    \n",
    "    # Calculate loyalty points for games played\n",
    "    if slot:\n",
    "        loyalty_points[user_id][slot] += calculate_loyalty_points('games_played', games_played=games_played)"
   ]
  },
  {
   "cell_type": "code",
   "execution_count": 18,
   "id": "98054d57",
   "metadata": {},
   "outputs": [],
   "source": [
    "for _, row in df2.iterrows():\n",
    "    user_id = row['User Id']\n",
    "    amount = row['Amount']\n",
    "    datetime = row['Datetime']\n",
    "    \n",
    "    # Determine the slot\n",
    "    slot = None\n",
    "    if s1_start <= datetime <= s1_end:\n",
    "        slot = 'S1'\n",
    "    elif s2_start <= datetime <= s2_end:\n",
    "        slot = 'S2'\n",
    "    \n",
    "    # Calculate loyalty points for deposit\n",
    "    if slot:\n",
    "        loyalty_points[user_id][slot] += calculate_loyalty_points('deposit', amount=amount)"
   ]
  },
  {
   "cell_type": "code",
   "execution_count": 19,
   "id": "c13c3b29",
   "metadata": {},
   "outputs": [],
   "source": [
    "for _, row in df3.iterrows():\n",
    "    user_id = row['User Id']\n",
    "    amount = row['Amount']\n",
    "    datetime = row['Datetime']\n",
    "    \n",
    "    # Determine the slot\n",
    "    slot = None\n",
    "    if s1_start <= datetime <= s1_end:\n",
    "        slot = 'S1'\n",
    "    elif s2_start <= datetime <= s2_end:\n",
    "        slot = 'S2'\n",
    "    \n",
    "    # Calculate loyalty points for withdrawal\n",
    "    if slot:\n",
    "        loyalty_points[user_id][slot] += calculate_loyalty_points('withdrawal', amount=amount)"
   ]
  },
  {
   "cell_type": "code",
   "execution_count": 21,
   "id": "331d85a0",
   "metadata": {},
   "outputs": [],
   "source": [
    "for user_id in loyalty_points.keys():\n",
    "    num_deposits = df2[df2['User Id'] == user_id].shape[0]\n",
    "    num_withdrawals = df3[df3['User Id'] == user_id].shape[0]\n",
    "    \n",
    "    for slot in loyalty_points[user_id].keys():\n",
    "        loyalty_points[user_id][slot] += calculate_loyalty_points('deposit_withdrawal_diff', \n",
    "                                                                  num_deposits=num_deposits, \n",
    "                                                                  num_withdrawals=num_withdrawals)"
   ]
  },
  {
   "cell_type": "code",
   "execution_count": 23,
   "id": "1fd68843",
   "metadata": {},
   "outputs": [],
   "source": [
    "loyalty_points_df = pd.DataFrame(loyalty_points).T\n",
    "\n",
    "# Calculate overall loyalty points earned\n",
    "loyalty_points_df['Overall Loyalty Points'] = loyalty_points_df['S1'] + loyalty_points_df['S2']\n",
    "\n",
    "# Rank players based on overall loyalty points and number of games played\n",
    "loyalty_points_df['Rank'] = loyalty_points_df['Overall Loyalty Points'].rank(ascending=False, method='min')\n",
    "loyalty_points_df['Games Played'] = df1.groupby('User ID')['Games Played'].sum()\n",
    "\n",
    "# Calculate average deposit amount\n",
    "average_deposit_amount = df2['Amount'].mean()\n",
    "\n",
    "# Calculate average deposit amount per user\n",
    "average_deposit_per_user = df2.groupby('User Id')['Amount'].mean().mean()\n",
    "\n",
    "# Calculate average number of games played per user\n",
    "average_games_played_per_user = df1.groupby('User ID')['Games Played'].sum().mean()"
   ]
  },
  {
   "cell_type": "code",
   "execution_count": 25,
   "id": "f3684a5f",
   "metadata": {},
   "outputs": [
    {
     "name": "stdout",
     "output_type": "stream",
     "text": [
      "Playerwise Loyalty points earned:\n",
      "        S1     S2\n",
      "851  0.043  0.043\n",
      "717  0.050  0.050\n",
      "456  0.003  0.003\n",
      "424  0.057  0.057\n",
      "845  0.000  0.000\n",
      "..     ...    ...\n",
      "159  0.007  0.007\n",
      "422  0.000  0.000\n",
      "408  0.037  0.037\n",
      "384  0.002  0.002\n",
      "969  0.001  0.001\n",
      "\n",
      "[1000 rows x 2 columns]\n",
      "\n",
      "Overall Loyalty points and player ranking:\n",
      "     Overall Loyalty Points   Rank  Games Played\n",
      "97                    0.430    1.0           694\n",
      "837                   0.280    2.0           335\n",
      "618                   0.276    3.0          7084\n",
      "193                   0.258    4.0             1\n",
      "548                   0.258    4.0            31\n",
      "..                      ...    ...           ...\n",
      "265                   0.000  814.0            26\n",
      "180                   0.000  814.0            12\n",
      "388                   0.000  814.0             2\n",
      "883                   0.000  814.0            26\n",
      "634                   0.000  814.0            24\n",
      "\n",
      "[1000 rows x 3 columns]\n",
      "\n",
      "Average deposit amount: 5492.185399701801\n",
      "Average deposit amount per user in a month: 6900.275174462214\n",
      "Average number of games played per user: 355.267\n"
     ]
    }
   ],
   "source": [
    "print(\"Playerwise Loyalty points earned:\")\n",
    "print(loyalty_points_df[['S1', 'S2']])\n",
    "print(\"\\nOverall Loyalty points and player ranking:\")\n",
    "print(loyalty_points_df[['Overall Loyalty Points', 'Rank', 'Games Played']].sort_values(by='Rank'))\n",
    "print(\"\\nAverage deposit amount:\", average_deposit_amount)\n",
    "print(\"Average deposit amount per user in a month:\", average_deposit_per_user)\n",
    "print(\"Average number of games played per user:\", average_games_played_per_user)"
   ]
  },
  {
   "cell_type": "markdown",
   "id": "17fe4433",
   "metadata": {},
   "source": [
    "# Part B - How much bonus should be allocated to leaderboard players?\n",
    "After calculating the loyalty points for the whole month find out which 50 players are at the top of the leaderboard. The company has allocated a pool of Rs 50000 to be given away as bonus money to the loyal players.\n",
    "\n",
    "Now the company needs to determine how much bonus money should be given to the players.\n",
    "\n",
    "Should they base it on the amount of loyalty points? Should it be based on number of games? Or something else?\n",
    "\n",
    "That’s for you to figure out.\n",
    "\n",
    "Suggest a suitable way to divide the allocated money keeping in mind the following points:\n",
    "\n",
    "1. Only top 50 ranked players are awarded bonus"
   ]
  },
  {
   "cell_type": "code",
   "execution_count": 26,
   "id": "5c0d5d4d",
   "metadata": {},
   "outputs": [],
   "source": [
    "# Calculate loyalty points for each player\n",
    "loyalty_points = {}\n",
    "\n",
    "# Loop through each player's gameplay data\n",
    "for _, row in df1.iterrows():\n",
    "    user_id = row['User ID']\n",
    "    games_played = row['Games Played']\n",
    "    # Calculate loyalty points for games played\n",
    "    loyalty_points[user_id] = loyalty_points.get(user_id, 0) + (0.2 * games_played)\n",
    "\n",
    "# Loop through deposit data to calculate loyalty points\n",
    "for _, row in df2.iterrows():\n",
    "    user_id = row['User Id']\n",
    "    amount = row['Amount']\n",
    "    # Calculate loyalty points for deposit\n",
    "    loyalty_points[user_id] = loyalty_points.get(user_id, 0) + (0.01 * amount)\n",
    "\n",
    "# Loop through withdrawal data to calculate loyalty points\n",
    "for _, row in df3.iterrows():\n",
    "    user_id = row['User Id']\n",
    "    amount = row['Amount']\n",
    "    # Calculate loyalty points for withdrawal\n",
    "    loyalty_points[user_id] = loyalty_points.get(user_id, 0) + (0.005 * amount)"
   ]
  },
  {
   "cell_type": "code",
   "execution_count": 27,
   "id": "b0b873f8",
   "metadata": {},
   "outputs": [],
   "source": [
    "#top 50 players based on loyalty points\n",
    "top_50_players = sorted(loyalty_points.items(), key=lambda x: x[1], reverse=True)[:50]"
   ]
  },
  {
   "cell_type": "code",
   "execution_count": 29,
   "id": "311edbe2",
   "metadata": {},
   "outputs": [],
   "source": [
    "# Approach 1: Weighted Distribution based on Loyalty Points\n",
    "total_loyalty_points = sum(loyalty_points.values())\n",
    "bonus_distribution_1 = {user_id: (loyalty_points[user_id] / total_loyalty_points) * 50000 for user_id, _ in top_50_players}"
   ]
  },
  {
   "cell_type": "code",
   "execution_count": 30,
   "id": "e0bcea4e",
   "metadata": {},
   "outputs": [],
   "source": [
    "# Approach 2: Combination of Loyalty Points and Number of Games Played\n",
    "games_played_dict = df1.groupby('User ID')['Games Played'].sum().to_dict()\n",
    "combined_scores = {user_id: loyalty_points[user_id] + games_played_dict.get(user_id, 0) for user_id, _ in top_50_players}\n",
    "total_combined_score = sum(combined_scores.values())\n",
    "bonus_distribution_2 = {user_id: (combined_scores[user_id] / total_combined_score) * 50000 for user_id, _ in top_50_players}"
   ]
  },
  {
   "cell_type": "code",
   "execution_count": 31,
   "id": "27774508",
   "metadata": {},
   "outputs": [],
   "source": [
    "# Approach 3: Equal Distribution among Top 50 Players\n",
    "equal_bonus_share = 50000 / 50\n",
    "bonus_distribution_3 = {user_id: equal_bonus_share for user_id, _ in top_50_players}"
   ]
  },
  {
   "cell_type": "code",
   "execution_count": 32,
   "id": "2b9cc6fb",
   "metadata": {},
   "outputs": [],
   "source": [
    "# Approach 4: Hybrid Approach\n",
    "# Define weights for loyalty points and games played\n",
    "loyalty_points_weight = 0.7\n",
    "games_played_weight = 0.3\n",
    "hybrid_scores = {user_id: (loyalty_points_weight * loyalty_points[user_id] + \n",
    "                           games_played_weight * games_played_dict.get(user_id, 0)) \n",
    "                 for user_id, _ in top_50_players}\n",
    "total_hybrid_score = sum(hybrid_scores.values())\n",
    "bonus_distribution_4 = {user_id: (hybrid_scores[user_id] / total_hybrid_score) * 50000 for user_id, _ in top_50_players}"
   ]
  },
  {
   "cell_type": "code",
   "execution_count": 33,
   "id": "425d8888",
   "metadata": {},
   "outputs": [
    {
     "name": "stdout",
     "output_type": "stream",
     "text": [
      "Approach 1: Weighted Distribution based on Loyalty Points\n",
      "{634: 2893.785406371953, 99: 816.8029090032362, 672: 785.465567257278, 212: 766.1897309088905, 740: 663.0778638968852, 566: 661.0748322177528, 714: 578.6029753650718, 421: 533.121713879155, 369: 498.331226281604, 30: 485.03928960358064, 587: 470.7322902619355, 222: 460.7228267095069, 352: 450.0834789812505, 365: 443.6826477577914, 920: 432.6631261009452, 162: 430.86148478707065, 415: 424.677057606484, 569: 424.0207700665735, 786: 417.5251973602287, 2: 415.56737928495016, 238: 401.70388743149067, 992: 401.3231957898801, 28: 366.62365311305865, 538: 355.4476095527955, 208: 339.63285732232646, 989: 337.86642049389604, 978: 324.39725339160464, 915: 322.3600526530713, 678: 320.7197652308128, 78: 315.2837785079154, 909: 312.9730527231661, 182: 305.1364307208322, 93: 304.2347472088602, 200: 288.7382159154394, 259: 285.2736803773794, 306: 285.11491505086934, 344: 284.3832139808666, 601: 280.5328096709844, 515: 272.0616440756323, 294: 263.479170180716, 681: 260.63744340719364, 950: 258.79783647176225, 675: 245.14746981204186, 663: 240.950542919956, 438: 240.71774463140508, 619: 240.57778954466633, 245: 229.72997603986195, 547: 221.26761156587042, 612: 220.96009003126073, 949: 216.12982754320066}\n",
      "\n",
      "Approach 2: Combination of Loyalty Points and Number of Games Played\n",
      "{634: 6347.623318247169, 99: 1791.9309711373419, 672: 1723.211045589233, 212: 1680.2597203040627, 740: 1454.220509056875, 566: 1463.5272980993093, 714: 1269.2775472649055, 421: 1286.931042244798, 369: 1095.5952212126451, 30: 1064.6307435230958, 587: 1087.8267600463341, 222: 1011.0799039741294, 352: 1010.6817930453026, 365: 1250.497837338067, 920: 1019.3304880713582, 162: 944.9912191942078, 415: 933.2458114964878, 569: 932.7148707805712, 786: 916.1243925298369, 2: 918.6428604303533, 238: 948.942053887129, 992: 1067.994629498705, 28: 806.7725541326599, 538: 781.6590204265641, 208: 783.1568560314092, 989: 1003.617973085719, 978: 716.9743200059081, 915: 707.511616797432, 678: 704.2173623911215, 78: 736.9517686112068, 909: 686.3969787043721, 182: 854.2654471524789, 93: 704.0183069267083, 200: 633.4792566306221, 259: 635.1155985091846, 306: 625.533689081525, 344: 623.8534490397079, 601: 617.6804590482394, 515: 627.8648329233253, 294: 578.1641650377479, 681: 572.159577482903, 950: 567.822741699294, 675: 585.9496556639424, 663: 1012.851724666886, 438: 527.9476937339281, 619: 527.7164715119573, 245: 504.00389470559276, 547: 579.6763810753829, 612: 601.3295285331958, 949: 474.0286394190411}\n",
      "\n",
      "Approach 3: Equal Distribution among Top 50 Players\n",
      "{634: 1000.0, 99: 1000.0, 672: 1000.0, 212: 1000.0, 740: 1000.0, 566: 1000.0, 714: 1000.0, 421: 1000.0, 369: 1000.0, 30: 1000.0, 587: 1000.0, 222: 1000.0, 352: 1000.0, 365: 1000.0, 920: 1000.0, 162: 1000.0, 415: 1000.0, 569: 1000.0, 786: 1000.0, 2: 1000.0, 238: 1000.0, 992: 1000.0, 28: 1000.0, 538: 1000.0, 208: 1000.0, 989: 1000.0, 978: 1000.0, 915: 1000.0, 678: 1000.0, 78: 1000.0, 909: 1000.0, 182: 1000.0, 93: 1000.0, 200: 1000.0, 259: 1000.0, 306: 1000.0, 344: 1000.0, 601: 1000.0, 515: 1000.0, 294: 1000.0, 681: 1000.0, 950: 1000.0, 675: 1000.0, 663: 1000.0, 438: 1000.0, 619: 1000.0, 245: 1000.0, 547: 1000.0, 612: 1000.0, 949: 1000.0}\n",
      "\n",
      "Approach 4: Hybrid Approach\n",
      "{634: 6510.8251803267, 99: 1837.8596967729077, 672: 1767.3614054501181, 212: 1723.697883908102, 740: 1491.7647575535614, 566: 1493.2816662470927, 714: 1301.85828230921, 421: 1251.1528458929142, 369: 1122.3058971461276, 30: 1091.6049540983406, 587: 1083.4114509050796, 222: 1036.801407295499, 352: 1022.9492928232232, 365: 1120.1589536180945, 920: 1004.3576082024404, 162: 969.3573983997313, 415: 956.243190043043, 569: 955.1660855957805, 786: 939.5216994939424, 2: 938.1121629341783, 238: 933.6117952716935, 992: 985.4653259757567, 28: 826.0089445224635, 538: 800.6004604669486, 208: 780.9288428974454, 989: 875.5864743868843, 978: 732.2452304152911, 915: 725.4659779508905, 678: 721.9089987157749, 78: 729.3130172374548, 909: 704.1155061141978, 182: 767.8468018122358, 93: 700.6296831020288, 200: 649.6952489892839, 259: 645.9609615353385, 306: 641.5440623962629, 344: 639.8647089817576, 601: 632.2009120124707, 515: 625.7887546686316, 294: 592.9043194171102, 681: 586.6112364385598, 950: 582.339644629273, 675: 572.7615622420514, 663: 755.0590358002693, 438: 541.5657978216019, 619: 541.2842232745265, 245: 516.9136328715563, 547: 539.3054369311925, 612: 548.4301826337983, 949: 486.2514014711711}\n"
     ]
    }
   ],
   "source": [
    "# Approach 1: # Print bonus distributions for each approach\n",
    "print(\"Approach 1: Weighted Distribution based on Loyalty Points\")\n",
    "print(bonus_distribution_1)\n",
    "print(\"\\nApproach 2: Combination of Loyalty Points and Number of Games Played\")\n",
    "print(bonus_distribution_2)\n",
    "print(\"\\nApproach 3: Equal Distribution among Top 50 Players\")\n",
    "print(bonus_distribution_3)\n",
    "print(\"\\nApproach 4: Hybrid Approach\")\n",
    "print(bonus_distribution_4)"
   ]
  },
  {
   "cell_type": "markdown",
   "id": "71e9b1cf",
   "metadata": {},
   "source": [
    "# Part C\n",
    "Would you say the loyalty point formula is fair or unfair?\n",
    "Can you suggest any way to make the loyalty point formula more robust?\n",
    "\n",
    "Here are some considerations regarding loyalty point formula is fair or unfair:\n",
    "1. Transparency in the loyalty formula is essential.\n",
    "2. The loyalty formula should treat all players equally and not prefer certain sorts of actions over others without justification.\n",
    "\n",
    "Here are some suggestions to make loyalty formula more robust:\n",
    "1. regularly collect feedback from players about their experiences with the loyalty point system.\n",
    "2. Analyse player data to detect patterns and trends in activity, such as daily game time, total deposits, and so on."
   ]
  },
  {
   "cell_type": "code",
   "execution_count": null,
   "id": "2c7bb8ab",
   "metadata": {},
   "outputs": [],
   "source": []
  }
 ],
 "metadata": {
  "kernelspec": {
   "display_name": "Python 3",
   "language": "python",
   "name": "python3"
  },
  "language_info": {
   "codemirror_mode": {
    "name": "ipython",
    "version": 3
   },
   "file_extension": ".py",
   "mimetype": "text/x-python",
   "name": "python",
   "nbconvert_exporter": "python",
   "pygments_lexer": "ipython3",
   "version": "3.8.8"
  }
 },
 "nbformat": 4,
 "nbformat_minor": 5
}
